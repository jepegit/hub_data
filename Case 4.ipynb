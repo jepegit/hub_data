{
 "cells": [
  {
   "cell_type": "markdown",
   "metadata": {},
   "source": [
    "# Case 4: programming\n",
    "Use programming tools (this time it is python within Jupyter Notebooks) to look at the data.\n",
    "\n",
    "## About Notebooks\n",
    "\n",
    "### Inside\n",
    "A notebook consists of cells. You can write code inside code-cells. That's the cells with an `In [ ]:` to their left.\n",
    "You run it by pressing `SHIFT + ENTER`.\n",
    "\n",
    "You can also make text-cells. For formatting, the Markdown language can be used. It is not extremely sofisticated. A header line starts with `#`. A sub-header starts with `##`. Etc.\n",
    "\n",
    "By clicking outside a cell (or pressing `ESC`) you get out of it. Then you can change the cell type using the appropriate magic key combination:\n",
    "\n",
    "`m`: make it a text cell\n",
    "\n",
    "`y`: make it a code cell\n",
    "\n",
    "### Outside\n",
    "On top you see a tool-bar. There you can find options for restarting your kernel (basically resetting everything) and running cells (if you dont like pressing `SHIFT + ENTER`), renaming your notebook, downloading it, and many others."
   ]
  },
  {
   "cell_type": "markdown",
   "metadata": {},
   "source": [
    "# 0. Gentle introduction to Python\n",
    "(you can skip this if you like)"
   ]
  },
  {
   "cell_type": "code",
   "execution_count": 1,
   "metadata": {},
   "outputs": [
    {
     "name": "stdout",
     "output_type": "stream",
     "text": [
      "Hello World!\n"
     ]
    }
   ],
   "source": [
    "print(\"Hello World!\")"
   ]
  },
  {
   "cell_type": "code",
   "execution_count": 2,
   "metadata": {},
   "outputs": [
    {
     "name": "stdout",
     "output_type": "stream",
     "text": [
      "Hello, Bruce Lee!\n"
     ]
    }
   ],
   "source": [
    "# f-strings: put an f in front and then you can print parametres by putting them between curly braces.\n",
    "name = \"Bruce Lee\"\n",
    "print(f\"Hello, {name}!\")"
   ]
  },
  {
   "cell_type": "code",
   "execution_count": 3,
   "metadata": {},
   "outputs": [
    {
     "name": "stdout",
     "output_type": "stream",
     "text": [
      " + 0 + 1 + 2 + 3 + 4 + 5 + 6 + 7 + 8 + 9 =  45\n"
     ]
    }
   ],
   "source": [
    "# a minimalistic loop\n",
    "my_number = 0\n",
    "my_numbers_as_string = \"\"\n",
    "for j in range(10):\n",
    "    my_number = my_number + j\n",
    "    my_numbers_as_string = my_numbers_as_string + \" + \" + str(j)\n",
    "    \n",
    "my_numbers_as_string = my_numbers_as_string + \" = \"\n",
    "print(my_numbers_as_string, my_number)"
   ]
  },
  {
   "cell_type": "code",
   "execution_count": 4,
   "metadata": {},
   "outputs": [
    {
     "name": "stdout",
     "output_type": "stream",
     "text": [
      "{'one': 1, 'two': 22, 'three': [7, 6, 4]}\n"
     ]
    }
   ],
   "source": [
    "# lists are simple containers declared using brackets\n",
    "my_list = [7, 6, 4]\n",
    "\n",
    "# dictionaries are nice containers you can make using curly braces\n",
    "my_dict = {\"one\": 1, \"two\": 22, \"three\": my_list}\n",
    "\n",
    "print(my_dict)"
   ]
  },
  {
   "cell_type": "code",
   "execution_count": 5,
   "metadata": {},
   "outputs": [
    {
     "name": "stdout",
     "output_type": "stream",
     "text": [
      "[7, 6, 4]\n"
     ]
    }
   ],
   "source": [
    "# look-up using the key-name\n",
    "print(my_dict[\"three\"])"
   ]
  },
  {
   "cell_type": "markdown",
   "metadata": {},
   "source": [
    "## Using libraries"
   ]
  },
  {
   "cell_type": "code",
   "execution_count": 6,
   "metadata": {},
   "outputs": [],
   "source": [
    "import numpy as np"
   ]
  },
  {
   "cell_type": "code",
   "execution_count": 7,
   "metadata": {},
   "outputs": [
    {
     "name": "stdout",
     "output_type": "stream",
     "text": [
      "my x-variable has 20 floats inside:\n",
      "\n",
      "[0.         0.10526316 0.21052632 0.31578947 0.42105263 0.52631579\n",
      " 0.63157895 0.73684211 0.84210526 0.94736842 1.05263158 1.15789474\n",
      " 1.26315789 1.36842105 1.47368421 1.57894737 1.68421053 1.78947368\n",
      " 1.89473684 2.        ]\n"
     ]
    }
   ],
   "source": [
    "x = np.linspace(0.0, 2.0, 20)\n",
    "print(f\"my x-variable has {len(x)} floats inside:\\n\")\n",
    "print(x)"
   ]
  },
  {
   "cell_type": "code",
   "execution_count": 8,
   "metadata": {},
   "outputs": [
    {
     "name": "stdout",
     "output_type": "stream",
     "text": [
      "now I also have an y-variable where each item is the sin of the corresponding item in the x:\n",
      "\n",
      "[0.         0.10506887 0.20897462 0.310567   0.40872137 0.50235115\n",
      " 0.59041986 0.67195255 0.74604665 0.81188195 0.86872962 0.91596036\n",
      " 0.95305133 0.97959192 0.99528832 0.99996678 0.9935755  0.97618524\n",
      " 0.9479885  0.90929743]\n"
     ]
    }
   ],
   "source": [
    "y = np.sin(x)\n",
    "print(\"now I also have an y-variable where each item is the sin of the corresponding item in the x:\\n\")\n",
    "print(y)"
   ]
  },
  {
   "cell_type": "code",
   "execution_count": 9,
   "metadata": {},
   "outputs": [],
   "source": [
    "# importing a plotting library and using a magic function (%) that allows that the figures appear inside the book.\n",
    "import matplotlib.pyplot as plt\n",
    "%matplotlib inline"
   ]
  },
  {
   "cell_type": "code",
   "execution_count": 10,
   "metadata": {},
   "outputs": [
    {
     "data": {
      "image/png": "[encoded data removed]",
      "text/plain": [
       "<Figure size 432x288 with 1 Axes>"
      ]
     },
     "metadata": {
      "needs_background": "light"
     },
     "output_type": "display_data"
    }
   ],
   "source": [
    "# very basic plot\n",
    "ax = plt.plot(x,y)"
   ]
  },
  {
   "cell_type": "code",
   "execution_count": 11,
   "metadata": {},
   "outputs": [
    {
     "data": {
      "text/plain": [
       "Text(0, 0.5, 'y-value (a.u.)')"
      ]
     },
     "execution_count": 11,
     "metadata": {},
     "output_type": "execute_result"
    },
    {
     "data": {
      "image/png": "[encoded data removed]",
      "text/plain": [
       "<Figure size 432x288 with 1 Axes>"
      ]
     },
     "metadata": {
      "needs_background": "light"
     },
     "output_type": "display_data"
    }
   ],
   "source": [
    "# a bit more advanced plot\n",
    "fig, ax = plt.subplots()\n",
    "ax.plot(x, y, \"o-r\")\n",
    "ax.set_xlim((0.2, 1.2))\n",
    "ax.set_xlabel(\"x-value (a.u.)\")\n",
    "ax.set_ylabel(\"y-value (a.u.)\")"
   ]
  },
  {
   "cell_type": "code",
   "execution_count": 12,
   "metadata": {},
   "outputs": [],
   "source": [
    "import pandas as pd"
   ]
  },
  {
   "cell_type": "code",
   "execution_count": 13,
   "metadata": {},
   "outputs": [
    {
     "data": {
      "text/plain": [
       "\u001b[1;31mType:\u001b[0m        module\n",
       "\u001b[1;31mString form:\u001b[0m <module 'pandas' from 'C:\\\\Miniconda3\\\\envs\\\\cellpy\\\\lib\\\\site-packages\\\\pandas\\\\__init__.py'>\n",
       "\u001b[1;31mFile:\u001b[0m        c:\\miniconda3\\envs\\cellpy\\lib\\site-packages\\pandas\\__init__.py\n",
       "\u001b[1;31mDocstring:\u001b[0m  \n",
       "pandas - a powerful data analysis and manipulation library for Python\n",
       "=====================================================================\n",
       "\n",
       "**pandas** is a Python package providing fast, flexible, and expressive data\n",
       "structures designed to make working with \"relational\" or \"labeled\" data both\n",
       "easy and intuitive. It aims to be the fundamental high-level building block for\n",
       "doing practical, **real world** data analysis in Python. Additionally, it has\n",
       "the broader goal of becoming **the most powerful and flexible open source data\n",
       "analysis / manipulation tool available in any language**. It is already well on\n",
       "its way toward this goal.\n",
       "\n",
       "Main Features\n",
       "-------------\n",
       "Here are just a few of the things that pandas does well:\n",
       "\n",
       "  - Easy handling of missing data in floating point as well as non-floating\n",
       "    point data.\n",
       "  - Size mutability: columns can be inserted and deleted from DataFrame and\n",
       "    higher dimensional objects\n",
       "  - Automatic and explicit data alignment: objects can be explicitly aligned\n",
       "    to a set of labels, or the user can simply ignore the labels and let\n",
       "    `Series`, `DataFrame`, etc. automatically align the data for you in\n",
       "    computations.\n",
       "  - Powerful, flexible group by functionality to perform split-apply-combine\n",
       "    operations on data sets, for both aggregating and transforming data.\n",
       "  - Make it easy to convert ragged, differently-indexed data in other Python\n",
       "    and NumPy data structures into DataFrame objects.\n",
       "  - Intelligent label-based slicing, fancy indexing, and subsetting of large\n",
       "    data sets.\n",
       "  - Intuitive merging and joining data sets.\n",
       "  - Flexible reshaping and pivoting of data sets.\n",
       "  - Hierarchical labeling of axes (possible to have multiple labels per tick).\n",
       "  - Robust IO tools for loading data from flat files (CSV and delimited),\n",
       "    Excel files, databases, and saving/loading data from the ultrafast HDF5\n",
       "    format.\n",
       "  - Time series-specific functionality: date range generation and frequency\n",
       "    conversion, moving window statistics, moving window linear regressions,\n",
       "    date shifting and lagging, etc.\n"
      ]
     },
     "metadata": {},
     "output_type": "display_data"
    }
   ],
   "source": [
    "# you can get some information about the stuff you imported by adding a question-mark at the end\n",
    "pd?"
   ]
  },
  {
   "cell_type": "code",
   "execution_count": 14,
   "metadata": {},
   "outputs": [
    {
     "name": "stdout",
     "output_type": "stream",
     "text": [
      "   point  height model\n",
      "0      1    17.4    az\n",
      "1      2    12.4    tr\n",
      "2      3     8.1   x12\n"
     ]
    }
   ],
   "source": [
    "df = pd.DataFrame({\"point\": [1,2,3], \"height\": [17.4, 12.4, 8.1], \"model\": [\"az\", \"tr\", \"x12\"]})\n",
    "print(df)"
   ]
  },
  {
   "cell_type": "code",
   "execution_count": 15,
   "metadata": {},
   "outputs": [
    {
     "data": {
      "text/html": [
       "<div>\n",
       "<style scoped>\n",
       "    .dataframe tbody tr th:only-of-type {\n",
       "        vertical-align: middle;\n",
       "    }\n",
       "\n",
       "    .dataframe tbody tr th {\n",
       "        vertical-align: top;\n",
       "    }\n",
       "\n",
       "    .dataframe thead th {\n",
       "        text-align: right;\n",
       "    }\n",
       "</style>\n",
       "<table border=\"1\" class=\"dataframe\">\n",
       "  <thead>\n",
       "    <tr style=\"text-align: right;\">\n",
       "      <th></th>\n",
       "      <th>point</th>\n",
       "      <th>height</th>\n",
       "      <th>model</th>\n",
       "    </tr>\n",
       "  </thead>\n",
       "  <tbody>\n",
       "    <tr>\n",
       "      <th>0</th>\n",
       "      <td>1</td>\n",
       "      <td>17.4</td>\n",
       "      <td>az</td>\n",
       "    </tr>\n",
       "    <tr>\n",
       "      <th>1</th>\n",
       "      <td>2</td>\n",
       "      <td>12.4</td>\n",
       "      <td>tr</td>\n",
       "    </tr>\n",
       "    <tr>\n",
       "      <th>2</th>\n",
       "      <td>3</td>\n",
       "      <td>8.1</td>\n",
       "      <td>x12</td>\n",
       "    </tr>\n",
       "  </tbody>\n",
       "</table>\n",
       "</div>"
      ],
      "text/plain": [
       "   point  height model\n",
       "0      1    17.4    az\n",
       "1      2    12.4    tr\n",
       "2      3     8.1   x12"
      ]
     },
     "execution_count": 15,
     "metadata": {},
     "output_type": "execute_result"
    }
   ],
   "source": [
    "# jupyter-notebook-trick: just write the variable as the only item on the last line in the cell and it will print.\n",
    "df"
   ]
  },
  {
   "cell_type": "code",
   "execution_count": 16,
   "metadata": {},
   "outputs": [
    {
     "data": {
      "text/plain": [
       "0    17.4\n",
       "1    12.4\n",
       "2     8.1\n",
       "Name: height, dtype: float64"
      ]
     },
     "execution_count": 16,
     "metadata": {},
     "output_type": "execute_result"
    }
   ],
   "source": [
    "df.height"
   ]
  },
  {
   "cell_type": "code",
   "execution_count": 17,
   "metadata": {},
   "outputs": [
    {
     "data": {
      "text/html": [
       "<div>\n",
       "<style scoped>\n",
       "    .dataframe tbody tr th:only-of-type {\n",
       "        vertical-align: middle;\n",
       "    }\n",
       "\n",
       "    .dataframe tbody tr th {\n",
       "        vertical-align: top;\n",
       "    }\n",
       "\n",
       "    .dataframe thead th {\n",
       "        text-align: right;\n",
       "    }\n",
       "</style>\n",
       "<table border=\"1\" class=\"dataframe\">\n",
       "  <thead>\n",
       "    <tr style=\"text-align: right;\">\n",
       "      <th></th>\n",
       "      <th>height</th>\n",
       "      <th>model</th>\n",
       "    </tr>\n",
       "  </thead>\n",
       "  <tbody>\n",
       "    <tr>\n",
       "      <th>0</th>\n",
       "      <td>17.4</td>\n",
       "      <td>az</td>\n",
       "    </tr>\n",
       "    <tr>\n",
       "      <th>1</th>\n",
       "      <td>12.4</td>\n",
       "      <td>tr</td>\n",
       "    </tr>\n",
       "    <tr>\n",
       "      <th>2</th>\n",
       "      <td>8.1</td>\n",
       "      <td>x12</td>\n",
       "    </tr>\n",
       "  </tbody>\n",
       "</table>\n",
       "</div>"
      ],
      "text/plain": [
       "   height model\n",
       "0    17.4    az\n",
       "1    12.4    tr\n",
       "2     8.1   x12"
      ]
     },
     "execution_count": 17,
     "metadata": {},
     "output_type": "execute_result"
    }
   ],
   "source": [
    "df[[\"height\", \"model\"]]"
   ]
  },
  {
   "cell_type": "markdown",
   "metadata": {},
   "source": [
    "# 1. Time to start the show: this is Case 4\n",
    "What we would like you to do is to load data from two cell-tests and compare them. To do that, you will have to use a library that can read the data-files (cellpy). We recommend that you just run through each cell step-by-step first trying to understand what happens, but without modifying them. Then, to solve the \"task\" at the bottom, you will have to do some copy-pasting and gentle editing. When you start to feel comfortable with the code snippets and the form of the notebook, feel free to start to modify the content of the cells. For example, you can see what happens if you replace the number `15` in the `.get_cap` cell below with a list of numbers, *e.g.* `[1, 10, 100]`."
   ]
  },
  {
   "cell_type": "markdown",
   "metadata": {},
   "source": [
    "#### Importing `cellpy` for help in loading the cell data"
   ]
  },
  {
   "cell_type": "code",
   "execution_count": 18,
   "metadata": {},
   "outputs": [],
   "source": [
    "import cellpy\n",
    "from cellpy import cellreader"
   ]
  },
  {
   "cell_type": "markdown",
   "metadata": {},
   "source": [
    "**This is what we know about the cells** (from the log)"
   ]
  },
  {
   "cell_type": "markdown",
   "metadata": {},
   "source": [
    "We have two cells. Both are half-cells with amorphous Si thin-films as active material and Li metal as counter electrode. One has been cycled with using FEC as electrolyte additive. \n",
    "1. `20150204_TF5_CUA_08_cc`: standard LP30 electrolyte\n",
    "2. `20150430_TF5_CUA_13_cc`: LP30 + FEC"
   ]
  },
  {
   "cell_type": "markdown",
   "metadata": {},
   "source": [
    "**Loading the data**"
   ]
  },
  {
   "cell_type": "code",
   "execution_count": 19,
   "metadata": {},
   "outputs": [],
   "source": [
    "file_01 = \"raw_data/20150204_TF5_CUA_08_cc.h5\"\n",
    "file_02 = \"raw_data/20150430_TF5_CUA_13_cc.h5\""
   ]
  },
  {
   "cell_type": "code",
   "execution_count": 20,
   "metadata": {},
   "outputs": [],
   "source": [
    "cell_01 = cellreader.CellpyData().load(file_01)\n",
    "cell_02 = cellreader.CellpyData().load(file_02)"
   ]
  },
  {
   "cell_type": "markdown",
   "metadata": {},
   "source": [
    "#### Start looking into what we have\n",
    "##### voltage-capacity cycles"
   ]
  },
  {
   "cell_type": "code",
   "execution_count": 21,
   "metadata": {},
   "outputs": [],
   "source": [
    "cycle_15_cell_01 = cell_01.get_cap(15)"
   ]
  },
  {
   "cell_type": "code",
   "execution_count": 22,
   "metadata": {},
   "outputs": [
    {
     "data": {
      "text/plain": [
       "<matplotlib.axes._subplots.AxesSubplot at 0xdd61fd0>"
      ]
     },
     "execution_count": 22,
     "metadata": {},
     "output_type": "execute_result"
    },
    {
     "data": {
      "image/png": "[encoded data removed]",
      "text/plain": [
       "<Figure size 432x288 with 1 Axes>"
      ]
     },
     "metadata": {
      "needs_background": "light"
     },
     "output_type": "display_data"
    }
   ],
   "source": [
    "# the object returned by the method .get_cap is a pandas DataFrame. This is a \"short-cut\" way for plotting it:\n",
    "cycle_15_cell_01.plot(x=\"capacity\", y=\"voltage\")"
   ]
  },
  {
   "cell_type": "markdown",
   "metadata": {},
   "source": [
    "##### crating dqdv"
   ]
  },
  {
   "cell_type": "code",
   "execution_count": 23,
   "metadata": {},
   "outputs": [],
   "source": [
    "# create a custom function for making dqdv\n",
    "from cellpy.utils import ica\n",
    "import pandas as pd\n",
    "\n",
    "def make_dqdv(cell, cycle_number):\n",
    "    voltage_cycle = cell.get_cap(cycle_number, method=\"forth-and-forth\", categorical_column=True)\n",
    "    ica_x, ica_y = ica.dqdv_cycle(voltage_cycle)\n",
    "    frame = pd.DataFrame({\"voltage\": ica_x, \"dqdv\": ica_y})\n",
    "    return frame\n",
    "    "
   ]
  },
  {
   "cell_type": "code",
   "execution_count": 24,
   "metadata": {},
   "outputs": [],
   "source": [
    "dqdv_15_cell_01 = make_dqdv(cell_01, 15)"
   ]
  },
  {
   "cell_type": "code",
   "execution_count": 25,
   "metadata": {},
   "outputs": [
    {
     "data": {
      "text/plain": [
       "<matplotlib.axes._subplots.AxesSubplot at 0xe52cc50>"
      ]
     },
     "execution_count": 25,
     "metadata": {},
     "output_type": "execute_result"
    },
    {
     "data": {
      "image/png": "[encoded data removed]",
      "text/plain": [
       "<Figure size 432x288 with 1 Axes>"
      ]
     },
     "metadata": {
      "needs_background": "light"
     },
     "output_type": "display_data"
    }
   ],
   "source": [
    "dqdv_15_cell_01.plot(x=\"voltage\", y=\"dqdv\")"
   ]
  },
  {
   "cell_type": "code",
   "execution_count": 26,
   "metadata": {},
   "outputs": [],
   "source": [
    "# get summary data for cell_01\n",
    "all_summaries_cell_01 = cell_01.dataset.dfsummary.reset_index()"
   ]
  },
  {
   "cell_type": "code",
   "execution_count": 27,
   "metadata": {},
   "outputs": [
    {
     "data": {
      "text/html": [
       "<div>\n",
       "<style scoped>\n",
       "    .dataframe tbody tr th:only-of-type {\n",
       "        vertical-align: middle;\n",
       "    }\n",
       "\n",
       "    .dataframe tbody tr th {\n",
       "        vertical-align: top;\n",
       "    }\n",
       "\n",
       "    .dataframe thead th {\n",
       "        text-align: right;\n",
       "    }\n",
       "</style>\n",
       "<table border=\"1\" class=\"dataframe\">\n",
       "  <thead>\n",
       "    <tr style=\"text-align: right;\">\n",
       "      <th></th>\n",
       "      <th>Cycle_Index</th>\n",
       "      <th>Data_Point</th>\n",
       "      <th>Test_Time</th>\n",
       "      <th>Date_Time_Txt(str)</th>\n",
       "      <th>IR_Charge(Ohms)</th>\n",
       "      <th>IR_Discharge(Ohms)</th>\n",
       "      <th>End_Voltage_Charge(V)</th>\n",
       "      <th>End_Voltage_Discharge(V)</th>\n",
       "      <th>DateTime</th>\n",
       "      <th>Charge_Capacity</th>\n",
       "      <th>...</th>\n",
       "      <th>Cumulated_Discharge_Capacity_Loss(mAh/g)</th>\n",
       "      <th>Charge_Capacity_Loss(mAh/g)</th>\n",
       "      <th>Cumulated_Charge_Capacity_Loss(mAh/g)</th>\n",
       "      <th>Low_Level(percentage)</th>\n",
       "      <th>High_Level(percentage)</th>\n",
       "      <th>RIC(none)</th>\n",
       "      <th>RIC_SEI(none)</th>\n",
       "      <th>RIC_Disconnect(none)</th>\n",
       "      <th>Charge_Endpoint_Slippage(mAh/g)</th>\n",
       "      <th>Discharge_Endpoint_Slippage(mAh/g)</th>\n",
       "    </tr>\n",
       "  </thead>\n",
       "  <tbody>\n",
       "    <tr>\n",
       "      <th>0</th>\n",
       "      <td>1</td>\n",
       "      <td>18593</td>\n",
       "      <td>236804.180001</td>\n",
       "      <td>2015-02-07 08:54:32</td>\n",
       "      <td>225.475693</td>\n",
       "      <td>386.578583</td>\n",
       "      <td>1.000085</td>\n",
       "      <td>0.04987</td>\n",
       "      <td>42042.371204</td>\n",
       "      <td>0.000054</td>\n",
       "      <td>...</td>\n",
       "      <td>NaN</td>\n",
       "      <td>NaN</td>\n",
       "      <td>NaN</td>\n",
       "      <td>6.490022</td>\n",
       "      <td>22.259516</td>\n",
       "      <td>NaN</td>\n",
       "      <td>NaN</td>\n",
       "      <td>NaN</td>\n",
       "      <td>1886.949063</td>\n",
       "      <td>6471.868809</td>\n",
       "    </tr>\n",
       "    <tr>\n",
       "      <th>1</th>\n",
       "      <td>2</td>\n",
       "      <td>26077</td>\n",
       "      <td>351232.434426</td>\n",
       "      <td>2015-02-08 16:41:43</td>\n",
       "      <td>206.593033</td>\n",
       "      <td>251.332260</td>\n",
       "      <td>1.000085</td>\n",
       "      <td>0.04987</td>\n",
       "      <td>42043.695637</td>\n",
       "      <td>0.000053</td>\n",
       "      <td>...</td>\n",
       "      <td>1721.457992</td>\n",
       "      <td>61.131263</td>\n",
       "      <td>61.131263</td>\n",
       "      <td>7.269473</td>\n",
       "      <td>17.118139</td>\n",
       "      <td>0.722054</td>\n",
       "      <td>0.061339</td>\n",
       "      <td>0.022658</td>\n",
       "      <td>2113.571397</td>\n",
       "      <td>4977.033150</td>\n",
       "    </tr>\n",
       "    <tr>\n",
       "      <th>2</th>\n",
       "      <td>3</td>\n",
       "      <td>34735</td>\n",
       "      <td>483497.508805</td>\n",
       "      <td>2015-02-10 05:26:11</td>\n",
       "      <td>151.037003</td>\n",
       "      <td>217.057327</td>\n",
       "      <td>1.000085</td>\n",
       "      <td>0.04987</td>\n",
       "      <td>42045.226516</td>\n",
       "      <td>0.000062</td>\n",
       "      <td>...</td>\n",
       "      <td>1284.973544</td>\n",
       "      <td>-448.638317</td>\n",
       "      <td>-387.507054</td>\n",
       "      <td>8.007122</td>\n",
       "      <td>19.357043</td>\n",
       "      <td>0.637856</td>\n",
       "      <td>0.312817</td>\n",
       "      <td>-0.147484</td>\n",
       "      <td>2328.039862</td>\n",
       "      <td>5627.986064</td>\n",
       "    </tr>\n",
       "    <tr>\n",
       "      <th>3</th>\n",
       "      <td>4</td>\n",
       "      <td>43609</td>\n",
       "      <td>618992.608526</td>\n",
       "      <td>2015-02-11 19:04:29</td>\n",
       "      <td>136.069824</td>\n",
       "      <td>184.394073</td>\n",
       "      <td>1.000085</td>\n",
       "      <td>0.04987</td>\n",
       "      <td>42046.794780</td>\n",
       "      <td>0.000064</td>\n",
       "      <td>...</td>\n",
       "      <td>1226.190464</td>\n",
       "      <td>-101.488378</td>\n",
       "      <td>-488.995432</td>\n",
       "      <td>8.597888</td>\n",
       "      <td>20.149990</td>\n",
       "      <td>0.674473</td>\n",
       "      <td>0.401377</td>\n",
       "      <td>-0.180376</td>\n",
       "      <td>2499.803028</td>\n",
       "      <td>5858.532310</td>\n",
       "    </tr>\n",
       "    <tr>\n",
       "      <th>4</th>\n",
       "      <td>5</td>\n",
       "      <td>52518</td>\n",
       "      <td>755035.847926</td>\n",
       "      <td>2015-02-13 08:51:55</td>\n",
       "      <td>121.222794</td>\n",
       "      <td>161.413483</td>\n",
       "      <td>1.000085</td>\n",
       "      <td>0.04987</td>\n",
       "      <td>42048.369398</td>\n",
       "      <td>0.000064</td>\n",
       "      <td>...</td>\n",
       "      <td>1224.614380</td>\n",
       "      <td>-25.535601</td>\n",
       "      <td>-514.531033</td>\n",
       "      <td>9.106248</td>\n",
       "      <td>20.663771</td>\n",
       "      <td>0.720356</td>\n",
       "      <td>0.455768</td>\n",
       "      <td>-0.188389</td>\n",
       "      <td>2647.606678</td>\n",
       "      <td>6007.912045</td>\n",
       "    </tr>\n",
       "  </tbody>\n",
       "</table>\n",
       "<p>5 rows × 30 columns</p>\n",
       "</div>"
      ],
      "text/plain": [
       "   Cycle_Index  Data_Point      Test_Time   Date_Time_Txt(str)  \\\n",
       "0            1       18593  236804.180001  2015-02-07 08:54:32   \n",
       "1            2       26077  351232.434426  2015-02-08 16:41:43   \n",
       "2            3       34735  483497.508805  2015-02-10 05:26:11   \n",
       "3            4       43609  618992.608526  2015-02-11 19:04:29   \n",
       "4            5       52518  755035.847926  2015-02-13 08:51:55   \n",
       "\n",
       "   IR_Charge(Ohms)  IR_Discharge(Ohms)  End_Voltage_Charge(V)  \\\n",
       "0       225.475693          386.578583               1.000085   \n",
       "1       206.593033          251.332260               1.000085   \n",
       "2       151.037003          217.057327               1.000085   \n",
       "3       136.069824          184.394073               1.000085   \n",
       "4       121.222794          161.413483               1.000085   \n",
       "\n",
       "   End_Voltage_Discharge(V)      DateTime  Charge_Capacity  ...  \\\n",
       "0                   0.04987  42042.371204         0.000054  ...   \n",
       "1                   0.04987  42043.695637         0.000053  ...   \n",
       "2                   0.04987  42045.226516         0.000062  ...   \n",
       "3                   0.04987  42046.794780         0.000064  ...   \n",
       "4                   0.04987  42048.369398         0.000064  ...   \n",
       "\n",
       "   Cumulated_Discharge_Capacity_Loss(mAh/g)  Charge_Capacity_Loss(mAh/g)  \\\n",
       "0                                       NaN                          NaN   \n",
       "1                               1721.457992                    61.131263   \n",
       "2                               1284.973544                  -448.638317   \n",
       "3                               1226.190464                  -101.488378   \n",
       "4                               1224.614380                   -25.535601   \n",
       "\n",
       "   Cumulated_Charge_Capacity_Loss(mAh/g)  Low_Level(percentage)  \\\n",
       "0                                    NaN               6.490022   \n",
       "1                              61.131263               7.269473   \n",
       "2                            -387.507054               8.007122   \n",
       "3                            -488.995432               8.597888   \n",
       "4                            -514.531033               9.106248   \n",
       "\n",
       "   High_Level(percentage)  RIC(none)  RIC_SEI(none)  RIC_Disconnect(none)  \\\n",
       "0               22.259516        NaN            NaN                   NaN   \n",
       "1               17.118139   0.722054       0.061339              0.022658   \n",
       "2               19.357043   0.637856       0.312817             -0.147484   \n",
       "3               20.149990   0.674473       0.401377             -0.180376   \n",
       "4               20.663771   0.720356       0.455768             -0.188389   \n",
       "\n",
       "   Charge_Endpoint_Slippage(mAh/g)  Discharge_Endpoint_Slippage(mAh/g)  \n",
       "0                      1886.949063                         6471.868809  \n",
       "1                      2113.571397                         4977.033150  \n",
       "2                      2328.039862                         5627.986064  \n",
       "3                      2499.803028                         5858.532310  \n",
       "4                      2647.606678                         6007.912045  \n",
       "\n",
       "[5 rows x 30 columns]"
      ]
     },
     "execution_count": 27,
     "metadata": {},
     "output_type": "execute_result"
    }
   ],
   "source": [
    "# lets have a brief look at it (if you want to know the name of all the columns, you can issue print(all_summaries_cell_01.columns))\n",
    "all_summaries_cell_01.head()"
   ]
  },
  {
   "cell_type": "code",
   "execution_count": 28,
   "metadata": {},
   "outputs": [],
   "source": [
    "charge_cap_01 = all_summaries_cell_01[\"Charge_Capacity(mAh/g)\"]\n",
    "discharge_cap_01 = all_summaries_cell_01[\"Discharge_Capacity(mAh/g)\"]\n",
    "cycle_number_01 = all_summaries_cell_01[\"Cycle_Index\"]"
   ]
  },
  {
   "cell_type": "code",
   "execution_count": 29,
   "metadata": {},
   "outputs": [],
   "source": [
    "# plotting capacity vs cycle number"
   ]
  },
  {
   "cell_type": "code",
   "execution_count": 30,
   "metadata": {},
   "outputs": [
    {
     "data": {
      "text/plain": [
       "<matplotlib.legend.Legend at 0xea261d0>"
      ]
     },
     "execution_count": 30,
     "metadata": {},
     "output_type": "execute_result"
    },
    {
     "data": {
      "image/png": "[encoded data removed]",
      "text/plain": [
       "<Figure size 432x288 with 1 Axes>"
      ]
     },
     "metadata": {
      "needs_background": "light"
     },
     "output_type": "display_data"
    }
   ],
   "source": [
    "fig, ax = plt.subplots()\n",
    "ax.plot(cycle_number_01, charge_cap_01, 'o-', label=\"charge\")\n",
    "ax.plot(cycle_number_01, discharge_cap_01, 's-r', label=\"discharge\")\n",
    "ax.set_xlabel(\"cycle number\")\n",
    "ax.set_ylabel(\"capacity (mAh/g(a.m.))\")\n",
    "ax.legend()"
   ]
  },
  {
   "cell_type": "markdown",
   "metadata": {},
   "source": [
    "**Compare charge capacity vs cycle for both cells**"
   ]
  },
  {
   "cell_type": "code",
   "execution_count": 31,
   "metadata": {},
   "outputs": [],
   "source": [
    "# pick the summary data\n",
    "all_summaries_cell_02 = cell_02.dataset.dfsummary.reset_index()"
   ]
  },
  {
   "cell_type": "code",
   "execution_count": 32,
   "metadata": {},
   "outputs": [],
   "source": [
    "# select the columns\n"
   ]
  },
  {
   "cell_type": "code",
   "execution_count": 33,
   "metadata": {},
   "outputs": [],
   "source": [
    "# create the figure (including both cells)\n"
   ]
  },
  {
   "cell_type": "markdown",
   "metadata": {},
   "source": [
    "# 2. What did we find out?"
   ]
  },
  {
   "cell_type": "markdown",
   "metadata": {},
   "source": [
    "*1. What is the best cell?*  \n",
    "*2. For how many cycles did each cell live?*  \n",
    "*3. Is adding FEC a good thing?*"
   ]
  },
  {
   "cell_type": "markdown",
   "metadata": {},
   "source": [
    "1:"
   ]
  },
  {
   "cell_type": "markdown",
   "metadata": {},
   "source": [
    "2:"
   ]
  },
  {
   "cell_type": "markdown",
   "metadata": {},
   "source": [
    "3:"
   ]
  }
 ],
 "metadata": {
  "kernelspec": {
   "display_name": "cellpy",
   "language": "python",
   "name": "cellpy"
  },
  "language_info": {
   "codemirror_mode": {
    "name": "ipython",
    "version": 3
   },
   "file_extension": ".py",
   "mimetype": "text/x-python",
   "name": "python",
   "nbconvert_exporter": "python",
   "pygments_lexer": "ipython3",
   "version": "3.7.2"
  }
 },
 "nbformat": 4,
 "nbformat_minor": 2
}
