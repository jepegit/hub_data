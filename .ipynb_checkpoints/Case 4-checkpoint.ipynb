{
 "cells": [
  {
   "cell_type": "markdown",
   "metadata": {},
   "source": [
    "# Case 4: programming\n",
    "Use programming tools (python within Jupyter Notebooks) to look at the data.\n",
    "\n",
    "## About Notebooks\n",
    "\n",
    "### Inside\n",
    "A notebook consists of cells. You can write code inside code-cells. That's the cells with an `In [ ]:` to their left.\n",
    "You run it by pressing `SHIFT + ENTER`.\n",
    "\n",
    "You can also make text-cells. For formatting, the Markdown language can be used. It is not extremely sofisticated. A header line starts with `#`. A sub-header starts with `##`. Etc.\n",
    "\n",
    "By clicking outside a cell (or pressing `ESC`) you get out of it. Then you can change the cell type using the appropriate magic key combination:\n",
    "\n",
    "`m`: make it a text cell\n",
    "\n",
    "`y`: make it a code cell\n",
    "\n",
    "### Outside\n",
    "On top you see a tool-bar. There you can find options for restarting your kernel (basically resetting everything) and running cells (if you dont like pressing `SHIFT + ENTER`), renaming your notebook, downloading it, and many others."
   ]
  },
  {
   "cell_type": "markdown",
   "metadata": {},
   "source": [
    "# 0. Gentle introduction to Python\n",
    "(you can skip this if you like)"
   ]
  },
  {
   "cell_type": "markdown",
   "metadata": {},
   "source": [
    "## 0.1 The basics"
   ]
  },
  {
   "cell_type": "code",
   "execution_count": null,
   "metadata": {},
   "outputs": [],
   "source": [
    "print(\"Hello World!\")"
   ]
  },
  {
   "cell_type": "code",
   "execution_count": null,
   "metadata": {},
   "outputs": [],
   "source": [
    "# f-strings: put an f in front and then you can print parametres by putting them between curly braces.\n",
    "name = \"Bruce Lee\"\n",
    "print(f\"Hello, {name}!\")"
   ]
  },
  {
   "cell_type": "code",
   "execution_count": null,
   "metadata": {},
   "outputs": [],
   "source": [
    "# a minimalistic loop\n",
    "my_number = 0\n",
    "my_numbers_as_string = \"\"\n",
    "for j in range(10):\n",
    "    my_number = my_number + j\n",
    "    my_numbers_as_string = my_numbers_as_string + \" + \" + str(j)\n",
    "    \n",
    "my_numbers_as_string = my_numbers_as_string + \" = \"\n",
    "print(my_numbers_as_string, my_number)"
   ]
  },
  {
   "cell_type": "code",
   "execution_count": null,
   "metadata": {},
   "outputs": [],
   "source": [
    "# lists are simple containers declared using brackets\n",
    "my_list = [7, 6, 4]\n",
    "\n",
    "# dictionaries are nice containers you can make using curly braces\n",
    "my_dict = {\"one\": 1, \"two\": 22, \"three\": my_list}\n",
    "\n",
    "print(my_dict)"
   ]
  },
  {
   "cell_type": "code",
   "execution_count": null,
   "metadata": {},
   "outputs": [],
   "source": [
    "# look-up using the key-name\n",
    "print(my_dict[\"three\"])"
   ]
  },
  {
   "cell_type": "markdown",
   "metadata": {},
   "source": [
    "## 0.2 Using libraries"
   ]
  },
  {
   "cell_type": "code",
   "execution_count": null,
   "metadata": {},
   "outputs": [],
   "source": [
    "import numpy as np"
   ]
  },
  {
   "cell_type": "code",
   "execution_count": null,
   "metadata": {},
   "outputs": [],
   "source": [
    "x = np.linspace(0.0, 2.0, 20)\n",
    "print(f\"my x-variable has {len(x)} floats inside:\\n\")\n",
    "print(x)"
   ]
  },
  {
   "cell_type": "code",
   "execution_count": null,
   "metadata": {},
   "outputs": [],
   "source": [
    "y = np.sin(x)\n",
    "print(\"now I also have an y-variable where each item is the sin of the corresponding item in the x:\\n\")\n",
    "print(y)"
   ]
  },
  {
   "cell_type": "code",
   "execution_count": null,
   "metadata": {},
   "outputs": [],
   "source": [
    "# importing a plotting library and using a magic function (%) that allows that the figures appear inside the book.\n",
    "import matplotlib.pyplot as plt\n",
    "%matplotlib inline"
   ]
  },
  {
   "cell_type": "code",
   "execution_count": null,
   "metadata": {},
   "outputs": [],
   "source": [
    "# very basic plot\n",
    "ax = plt.plot(x,y)"
   ]
  },
  {
   "cell_type": "code",
   "execution_count": null,
   "metadata": {},
   "outputs": [],
   "source": [
    "# a bit more advanced plot\n",
    "fig, ax = plt.subplots()\n",
    "ax.plot(x, y, \"o-r\")\n",
    "ax.set_xlim((0.2, 1.2))\n",
    "ax.set_xlabel(\"x-value (a.u.)\")\n",
    "ax.set_ylabel(\"y-value (a.u.)\")"
   ]
  },
  {
   "cell_type": "code",
   "execution_count": null,
   "metadata": {},
   "outputs": [],
   "source": [
    "import pandas as pd"
   ]
  },
  {
   "cell_type": "code",
   "execution_count": null,
   "metadata": {},
   "outputs": [],
   "source": [
    "# you can get some information about the stuff you imported by adding a question-mark at the end\n",
    "pd?"
   ]
  },
  {
   "cell_type": "code",
   "execution_count": null,
   "metadata": {},
   "outputs": [],
   "source": [
    "df = pd.DataFrame({\"point\": [1,2,3], \"height\": [17.4, 12.4, 8.1], \"model\": [\"az\", \"tr\", \"x12\"]})\n",
    "print(df)"
   ]
  },
  {
   "cell_type": "code",
   "execution_count": null,
   "metadata": {},
   "outputs": [],
   "source": [
    "# jupyter-notebook-trick: just write the variable as the only item on the last line in the cell and it will print.\n",
    "df"
   ]
  },
  {
   "cell_type": "code",
   "execution_count": null,
   "metadata": {},
   "outputs": [],
   "source": [
    "df.height"
   ]
  },
  {
   "cell_type": "code",
   "execution_count": null,
   "metadata": {},
   "outputs": [],
   "source": [
    "df[[\"height\", \"model\"]]"
   ]
  },
  {
   "cell_type": "markdown",
   "metadata": {},
   "source": [
    "# 1. Time to start the show: this is Case 4\n",
    "What we would like you to do is to load data from two cell-tests and compare them. To do that, you will have to use a library that can read the data-files (cellpy). We recommend that you just run through each cell step-by-step first trying to understand what happens, but without modifying them. Then, to solve the \"task\" at the bottom, you will have to do some copy-pasting and gentle editing. When you start to feel comfortable with the code snippets and the form of the notebook, feel free to start to modify the content of the cells. For example, you can see what happens if you replace the number `15` in the `.get_cap` cell below with a list of numbers, *e.g.* `[1, 10, 100]`."
   ]
  },
  {
   "cell_type": "markdown",
   "metadata": {},
   "source": [
    "**This is what we know about the cells** (from the log)"
   ]
  },
  {
   "cell_type": "markdown",
   "metadata": {},
   "source": [
    "We have two cells. Both are half-cells with amorphous Si thin-films as active material and Li metal as counter electrode. One has been cycled with using FEC as electrolyte additive. For both cells, the formation was done by cycling at slow rate for 6 cycles.\n",
    "1. `20150204_TF5_CUA_08_cc`: standard LP30 electrolyte\n",
    "2. `20150430_TF5_CUA_13_cc`: LP30 + FEC\n",
    "\n",
    "FEC = Fluoroethylene carbonate"
   ]
  },
  {
   "cell_type": "markdown",
   "metadata": {},
   "source": [
    "## 1.1 Importing `cellpy` for help in loading the cell data\n",
    "and other libraries if needed"
   ]
  },
  {
   "cell_type": "code",
   "execution_count": null,
   "metadata": {},
   "outputs": [],
   "source": [
    "# Cellpy will warn you about missing configurations etc. So, lets turn off all warnings this time...\n",
    "import warnings\n",
    "warnings.filterwarnings(\"ignore\")\n",
    "import cellpy\n",
    "from cellpy import cellreader\n",
    "\n",
    "# also import the plotting library (in case you skipped the first part (intro to Python))\n",
    "import matplotlib.pyplot as plt\n",
    "%matplotlib inline"
   ]
  },
  {
   "cell_type": "markdown",
   "metadata": {},
   "source": [
    "**Loading the data**"
   ]
  },
  {
   "cell_type": "code",
   "execution_count": null,
   "metadata": {},
   "outputs": [],
   "source": [
    "file_01 = \"raw_data/20150204_TF5_CUA_08_cc.h5\"\n",
    "file_02 = \"raw_data/20150430_TF5_CUA_13_cc.h5\""
   ]
  },
  {
   "cell_type": "code",
   "execution_count": null,
   "metadata": {},
   "outputs": [],
   "source": [
    "cell_01 = cellreader.CellpyData().load(file_01)\n",
    "cell_02 = cellreader.CellpyData().load(file_02)"
   ]
  },
  {
   "cell_type": "markdown",
   "metadata": {},
   "source": [
    "## 1.2 Start looking into what we have\n",
    "### voltage-capacity cycles"
   ]
  },
  {
   "cell_type": "code",
   "execution_count": null,
   "metadata": {},
   "outputs": [],
   "source": [
    "cycle_15_cell_01 = cell_01.get_cap(15)"
   ]
  },
  {
   "cell_type": "code",
   "execution_count": null,
   "metadata": {},
   "outputs": [],
   "source": [
    "# the object returned by the method .get_cap is a pandas DataFrame. This is a \"short-cut\" way for plotting it:\n",
    "cycle_15_cell_01.plot(x=\"capacity\", y=\"voltage\")"
   ]
  },
  {
   "cell_type": "markdown",
   "metadata": {},
   "source": [
    "### crating dqdv"
   ]
  },
  {
   "cell_type": "code",
   "execution_count": null,
   "metadata": {},
   "outputs": [],
   "source": [
    "# create a custom function for making dqdv\n",
    "from cellpy.utils import ica\n",
    "import pandas as pd\n",
    "\n",
    "def make_dqdv(cell, cycle_number):\n",
    "    voltage_cycle = cell.get_cap(cycle_number, method=\"forth-and-forth\", categorical_column=True)\n",
    "    ica_x, ica_y = ica.dqdv_cycle(voltage_cycle)\n",
    "    frame = pd.DataFrame({\"voltage\": ica_x, \"dqdv\": ica_y})\n",
    "    return frame\n",
    "    "
   ]
  },
  {
   "cell_type": "code",
   "execution_count": null,
   "metadata": {},
   "outputs": [],
   "source": [
    "dqdv_15_cell_01 = make_dqdv(cell_01, 15)"
   ]
  },
  {
   "cell_type": "code",
   "execution_count": null,
   "metadata": {},
   "outputs": [],
   "source": [
    "dqdv_15_cell_01.plot(x=\"voltage\", y=\"dqdv\")"
   ]
  },
  {
   "cell_type": "code",
   "execution_count": null,
   "metadata": {},
   "outputs": [],
   "source": [
    "# get summary data for cell_01\n",
    "all_summaries_cell_01 = cell_01.dataset.dfsummary.reset_index()"
   ]
  },
  {
   "cell_type": "code",
   "execution_count": null,
   "metadata": {},
   "outputs": [],
   "source": [
    "# lets have a brief look at it (if you want to know the name of all the columns, you can issue print(all_summaries_cell_01.columns))\n",
    "all_summaries_cell_01.head()"
   ]
  },
  {
   "cell_type": "code",
   "execution_count": null,
   "metadata": {},
   "outputs": [],
   "source": [
    "charge_cap_01 = all_summaries_cell_01[\"Charge_Capacity(mAh/g)\"]\n",
    "discharge_cap_01 = all_summaries_cell_01[\"Discharge_Capacity(mAh/g)\"]\n",
    "cycle_number_01 = all_summaries_cell_01[\"Cycle_Index\"]"
   ]
  },
  {
   "cell_type": "code",
   "execution_count": null,
   "metadata": {},
   "outputs": [],
   "source": [
    "# plotting capacity vs cycle number"
   ]
  },
  {
   "cell_type": "code",
   "execution_count": null,
   "metadata": {},
   "outputs": [],
   "source": [
    "fig, ax = plt.subplots()\n",
    "ax.plot(cycle_number_01, charge_cap_01, 'o-', label=\"charge\")\n",
    "ax.plot(cycle_number_01, discharge_cap_01, 's-r', label=\"discharge\")\n",
    "ax.set_xlabel(\"cycle number\")\n",
    "ax.set_ylabel(\"capacity (mAh/g(a.m.))\")\n",
    "ax.legend()"
   ]
  },
  {
   "cell_type": "markdown",
   "metadata": {},
   "source": [
    "## 1.3 Compare charge capacity *vs* cycle number for both cells\n",
    "\n",
    "This is your assignement!\n",
    "\n",
    "1. You will have to get the summary data for the second cell (pick the summary data)\n",
    "2. Then you will have to select the cycle-index column and the charge capacity column for the summary data for the second cell (select the colums).\n",
    "3. Then you must plot the charge-capacity vs cycle-index for the first cell and for the second cell (create the figure).\n"
   ]
  },
  {
   "cell_type": "code",
   "execution_count": null,
   "metadata": {},
   "outputs": [],
   "source": [
    "# pick the summary data\n",
    "all_summaries_cell_02 = cell_02.dataset.dfsummary.reset_index()"
   ]
  },
  {
   "cell_type": "code",
   "execution_count": null,
   "metadata": {},
   "outputs": [],
   "source": [
    "# select the columns"
   ]
  },
  {
   "cell_type": "code",
   "execution_count": null,
   "metadata": {},
   "outputs": [],
   "source": [
    "# create the figure (including both cells)"
   ]
  },
  {
   "cell_type": "markdown",
   "metadata": {},
   "source": [
    "# 2. What did we find out?"
   ]
  },
  {
   "cell_type": "markdown",
   "metadata": {},
   "source": [
    "*1. What is the best cell?*  \n",
    "*2. For how many cycles did each cell live?*  \n",
    "*3. Is adding FEC a good thing?*"
   ]
  },
  {
   "cell_type": "markdown",
   "metadata": {},
   "source": [
    "1:"
   ]
  },
  {
   "cell_type": "markdown",
   "metadata": {},
   "source": [
    "2:"
   ]
  },
  {
   "cell_type": "markdown",
   "metadata": {},
   "source": [
    "3:"
   ]
  }
 ],
 "metadata": {
  "kernelspec": {
   "display_name": "cellpy",
   "language": "python",
   "name": "cellpy"
  },
  "language_info": {
   "codemirror_mode": {
    "name": "ipython",
    "version": 3
   },
   "file_extension": ".py",
   "mimetype": "text/x-python",
   "name": "python",
   "nbconvert_exporter": "python",
   "pygments_lexer": "ipython3",
   "version": "3.7.2"
  }
 },
 "nbformat": 4,
 "nbformat_minor": 2
}
