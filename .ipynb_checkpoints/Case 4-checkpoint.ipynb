{
 "cells": [
  {
   "cell_type": "markdown",
   "metadata": {},
   "source": [
    "# Case 4: programming\n",
    "Use programming tools (this time it is python within Jupyter Notebooks) to look at the data.\n",
    "\n",
    "## About Notebooks\n",
    "\n",
    "### Inside\n",
    "A notebook consists of cells. You can write code inside code-cells. That's the cells with an `In [ ]:` to their left.\n",
    "You run it by pressing `SHIFT + ENTER`.\n",
    "\n",
    "You can also make text-cells. For formatting, the Markdown language can be used. It is not extremely sofisticated. A header line starts with `#`. A sub-header starts with `##`. Etc.\n",
    "\n",
    "By clicking outside a cell (or pressing `ESC`) you get out of it. Then you can change the cell type using the appropriate magic key combination:\n",
    "\n",
    "`m`: make it a text cell\n",
    "\n",
    "`y`: make it a code cell\n",
    "\n",
    "### Outside\n",
    "On top you see a tool-bar. There you can find options for restarting your kernel (basically resetting everything) and running cells (if you dont like pressing `SHIFT + ENTER`), renaming your notebook, downloading it, and many others."
   ]
  },
  {
   "cell_type": "markdown",
   "metadata": {},
   "source": [
    "# 0. Gentle introduction to Python\n",
    "(you can skip this if you like)"
   ]
  },
  {
   "cell_type": "code",
   "execution_count": null,
   "metadata": {},
   "outputs": [],
   "source": [
    "print(\"Hello World!\")"
   ]
  },
  {
   "cell_type": "code",
   "execution_count": null,
   "metadata": {},
   "outputs": [],
   "source": [
    "# f-strings: put an f in front and then you can print parametres by putting them between curly braces.\n",
    "name = \"Bruce Lee\"\n",
    "print(f\"Hello, {name}!\")"
   ]
  },
  {
   "cell_type": "code",
   "execution_count": null,
   "metadata": {},
   "outputs": [],
   "source": [
    "# a minimalistic loop\n",
    "my_number = 0\n",
    "my_numbers_as_string = \"\"\n",
    "for j in range(10):\n",
    "    my_number = my_number + j\n",
    "    my_numbers_as_string = my_numbers_as_string + \" + \" + str(j)\n",
    "    \n",
    "my_numbers_as_string = my_numbers_as_string + \" = \"\n",
    "print(my_numbers_as_string, my_number)"
   ]
  },
  {
   "cell_type": "code",
   "execution_count": null,
   "metadata": {},
   "outputs": [],
   "source": [
    "# lists are simple containers declared using brackets\n",
    "my_list = [7, 6, 4]\n",
    "\n",
    "# dictionaries are nice containers you can make using curly braces\n",
    "my_dict = {\"one\": 1, \"two\": 22, \"three\": my_list}\n",
    "\n",
    "print(my_dict)"
   ]
  },
  {
   "cell_type": "code",
   "execution_count": null,
   "metadata": {},
   "outputs": [],
   "source": [
    "# look-up using the key-name\n",
    "print(my_dict[\"three\"])"
   ]
  },
  {
   "cell_type": "markdown",
   "metadata": {},
   "source": [
    "## Using libraries"
   ]
  },
  {
   "cell_type": "code",
   "execution_count": null,
   "metadata": {},
   "outputs": [],
   "source": [
    "import numpy as np"
   ]
  },
  {
   "cell_type": "code",
   "execution_count": null,
   "metadata": {},
   "outputs": [],
   "source": [
    "x = np.linspace(0.0, 2.0, 20)\n",
    "print(f\"my x-variable has {len(x)} floats inside:\\n\")\n",
    "print(x)"
   ]
  },
  {
   "cell_type": "code",
   "execution_count": null,
   "metadata": {},
   "outputs": [],
   "source": [
    "y = np.sin(x)\n",
    "print(\"now I also have an y-variable where each item is the sin of the corresponding item in the x:\\n\")\n",
    "print(y)"
   ]
  },
  {
   "cell_type": "code",
   "execution_count": null,
   "metadata": {},
   "outputs": [],
   "source": [
    "# importing a plotting library and using a magic function (%) that allows that the figures appear inside the book.\n",
    "import matplotlib.pyplot as plt\n",
    "%matplotlib inline"
   ]
  },
  {
   "cell_type": "code",
   "execution_count": null,
   "metadata": {},
   "outputs": [],
   "source": [
    "# very basic plot\n",
    "ax = plt.plot(x,y)"
   ]
  },
  {
   "cell_type": "code",
   "execution_count": null,
   "metadata": {},
   "outputs": [],
   "source": [
    "# a bit more advanced plot\n",
    "fig, ax = plt.subplots()\n",
    "ax.plot(x, y, \"o-r\")\n",
    "ax.set_xlim((0.2, 1.2))\n",
    "ax.set_xlabel(\"x-value (a.u.)\")\n",
    "ax.set_ylabel(\"y-value (a.u.)\")"
   ]
  },
  {
   "cell_type": "code",
   "execution_count": null,
   "metadata": {},
   "outputs": [],
   "source": [
    "import pandas as pd"
   ]
  },
  {
   "cell_type": "code",
   "execution_count": null,
   "metadata": {},
   "outputs": [],
   "source": [
    "# you can get some information about the stuff you imported by adding a question-mark at the end\n",
    "pd?"
   ]
  },
  {
   "cell_type": "code",
   "execution_count": null,
   "metadata": {},
   "outputs": [],
   "source": [
    "df = pd.DataFrame({\"point\": [1,2,3], \"height\": [17.4, 12.4, 8.1], \"model\": [\"az\", \"tr\", \"x12\"]})\n",
    "print(df)"
   ]
  },
  {
   "cell_type": "code",
   "execution_count": null,
   "metadata": {},
   "outputs": [],
   "source": [
    "# jupyter-notebook-trick: just write the variable as the only item on the last line in the cell and it will print.\n",
    "df"
   ]
  },
  {
   "cell_type": "code",
   "execution_count": null,
   "metadata": {},
   "outputs": [],
   "source": [
    "df.point"
   ]
  },
  {
   "cell_type": "code",
   "execution_count": null,
   "metadata": {},
   "outputs": [],
   "source": [
    "df.height"
   ]
  },
  {
   "cell_type": "code",
   "execution_count": null,
   "metadata": {},
   "outputs": [],
   "source": [
    "df[[\"height\", \"model\"]]"
   ]
  },
  {
   "cell_type": "markdown",
   "metadata": {},
   "source": [
    "# 1. Time to start the show"
   ]
  },
  {
   "cell_type": "markdown",
   "metadata": {},
   "source": [
    "**Importing `cellpy` for help in loading the cell data**"
   ]
  },
  {
   "cell_type": "code",
   "execution_count": null,
   "metadata": {},
   "outputs": [],
   "source": [
    "import cellpy"
   ]
  },
  {
   "cell_type": "code",
   "execution_count": null,
   "metadata": {},
   "outputs": [],
   "source": [
    "cellpy??"
   ]
  },
  {
   "cell_type": "code",
   "execution_count": null,
   "metadata": {},
   "outputs": [],
   "source": [
    "from cellpy import cellreader"
   ]
  },
  {
   "cell_type": "code",
   "execution_count": null,
   "metadata": {},
   "outputs": [],
   "source": []
  },
  {
   "cell_type": "markdown",
   "metadata": {},
   "source": [
    "**This is what we know about the cells**"
   ]
  },
  {
   "cell_type": "code",
   "execution_count": null,
   "metadata": {},
   "outputs": [],
   "source": [
    "info"
   ]
  },
  {
   "cell_type": "code",
   "execution_count": null,
   "metadata": {},
   "outputs": [],
   "source": []
  },
  {
   "cell_type": "markdown",
   "metadata": {},
   "source": [
    "**Loading the data**"
   ]
  },
  {
   "cell_type": "code",
   "execution_count": null,
   "metadata": {},
   "outputs": [],
   "source": [
    "file_01 = \"x\"\n",
    "file_02 = \"y\"\n",
    "\n",
    "cell_01 = cellreader.CellpyData().load(file_01)\n",
    "cell_02 = cellreader.CellpyData().load(file_02)"
   ]
  },
  {
   "cell_type": "code",
   "execution_count": null,
   "metadata": {},
   "outputs": [],
   "source": [
    "print(cell_01)"
   ]
  },
  {
   "cell_type": "markdown",
   "metadata": {},
   "source": [
    "**Start looking into what we have**"
   ]
  },
  {
   "cell_type": "code",
   "execution_count": null,
   "metadata": {},
   "outputs": [],
   "source": [
    "cycle_15_cell_01 = cell_01.get_cap(15)"
   ]
  },
  {
   "cell_type": "code",
   "execution_count": null,
   "metadata": {},
   "outputs": [],
   "source": [
    "dqdv_15_cell_01 = cell_01.dqdv(15)"
   ]
  },
  {
   "cell_type": "code",
   "execution_count": null,
   "metadata": {},
   "outputs": [],
   "source": [
    "all_summaries_cell_01 = cell_01.summaries"
   ]
  },
  {
   "cell_type": "code",
   "execution_count": null,
   "metadata": {},
   "outputs": [],
   "source": [
    "charge_cap_01 = all_summaries_cell_01[\"\"]\n",
    "discharge_cap_01 = all_summaries_cell_01[\"\"]\n",
    "cycle_number_01 = all_summaries_cell_01[\"\"]"
   ]
  },
  {
   "cell_type": "code",
   "execution_count": null,
   "metadata": {},
   "outputs": [],
   "source": [
    "# plotting cycle 15"
   ]
  },
  {
   "cell_type": "code",
   "execution_count": null,
   "metadata": {},
   "outputs": [],
   "source": [
    "fig, (ax1, ax2) = plt.subplots(2)\n",
    "ax1.plot(cycle_15_cell_01)\n",
    "ax2.plot(dqdv_15_cell_01)"
   ]
  },
  {
   "cell_type": "code",
   "execution_count": null,
   "metadata": {},
   "outputs": [],
   "source": [
    "# plotting capacity vs cycle number"
   ]
  },
  {
   "cell_type": "code",
   "execution_count": null,
   "metadata": {},
   "outputs": [],
   "source": [
    "fig, ax = plt.subplots()\n",
    "ax.plot(cycle_number_01, charge_cap_01, label=\"charge\")\n",
    "ax.plot(cycle_number_01, discharge_cap_01, label=\"discharge\")\n",
    "ax.set_xlabel(\"cycle number\")\n",
    "ax.set_ylabel(\"capacity (mAh/g(a.m.))\")\n",
    "ax.legend()"
   ]
  },
  {
   "cell_type": "markdown",
   "metadata": {},
   "source": [
    "**Compare charge capacity vs cycle for both cells**"
   ]
  },
  {
   "cell_type": "code",
   "execution_count": null,
   "metadata": {},
   "outputs": [],
   "source": [
    "# pick the summary data\n",
    "all_summaries_cell_02 = cell_02.summaries"
   ]
  },
  {
   "cell_type": "code",
   "execution_count": null,
   "metadata": {},
   "outputs": [],
   "source": [
    "# select the columns\n"
   ]
  },
  {
   "cell_type": "code",
   "execution_count": null,
   "metadata": {},
   "outputs": [],
   "source": [
    "# create the figure (including both cells)\n"
   ]
  },
  {
   "cell_type": "markdown",
   "metadata": {},
   "source": [
    "# 2. What did we find out?"
   ]
  },
  {
   "cell_type": "markdown",
   "metadata": {},
   "source": [
    "*1. What is the best cell?*  \n",
    "*2. For how many cycles did each cell live?*  \n",
    "*3. Is adding FEC a good thing?*"
   ]
  },
  {
   "cell_type": "markdown",
   "metadata": {},
   "source": [
    "1:"
   ]
  },
  {
   "cell_type": "markdown",
   "metadata": {},
   "source": [
    "2:"
   ]
  },
  {
   "cell_type": "markdown",
   "metadata": {},
   "source": [
    "3:"
   ]
  }
 ],
 "metadata": {
  "kernelspec": {
   "display_name": "Python 3",
   "language": "python",
   "name": "python3"
  },
  "language_info": {
   "codemirror_mode": {
    "name": "ipython",
    "version": 3
   },
   "file_extension": ".py",
   "mimetype": "text/x-python",
   "name": "python",
   "nbconvert_exporter": "python",
   "pygments_lexer": "ipython3",
   "version": "3.6.8"
  }
 },
 "nbformat": 4,
 "nbformat_minor": 2
}
